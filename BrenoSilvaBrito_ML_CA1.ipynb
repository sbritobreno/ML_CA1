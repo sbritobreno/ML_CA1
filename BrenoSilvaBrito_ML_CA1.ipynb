{
 "cells": [
  {
   "cell_type": "markdown",
   "metadata": {},
   "source": [
    "### **CCT College Dublin**\n",
    "### **Module Title:** Machine Learning for AI \n",
    "### **Lecture Name:** David McQuaid \n",
    "### **Continuous Assessment 1**\n",
    "### **Student Full Name:** Breno Silva Brito\n",
    "### **Student Number:** 2023462\n",
    "### **Date of Submission:** 17/04/2024\n",
    "### **github:** https://github.com/sbritobreno/ML_CA1"
   ]
  },
  {
   "cell_type": "markdown",
   "metadata": {},
   "source": [
    "#### In order to examine the DataFrame's dimensions and structure, the following code presents the first few rows. It also looks for any missing values in each column. The describe() function is used to present summary statistics for numerical features, and value_counts() is used to illustrate the frequency distribution of the categorical feature \"Action\". All things considered, these functions help with the starting point of the analysis stage by providing insights on the structure, accuracy, and important features of the dataset, which lead the next phases of developing models and analysis."
   ]
  },
  {
   "cell_type": "code",
   "execution_count": 3,
   "metadata": {},
   "outputs": [
    {
     "name": "stdout",
     "output_type": "stream",
     "text": [
      "First few rows of the dataset:\n",
      "   Source Port  Destination Port  NAT Source Port  NAT Destination Port  \\\n",
      "0        57222                53            54587                    53   \n",
      "1        56258              3389            56258                  3389   \n",
      "2         6881             50321            43265                 50321   \n",
      "3        50553              3389            50553                  3389   \n",
      "4        50002               443            45848                   443   \n",
      "\n",
      "   Bytes  Bytes Sent  Bytes Received  Packets  Elapsed Time (sec)  pkts_sent  \\\n",
      "0    177          94              83        2                  30          1   \n",
      "1   4768        1600            3168       19                  17         10   \n",
      "2    238         118             120        2                1199          1   \n",
      "3   3327        1438            1889       15                  17          8   \n",
      "4  25358        6778           18580       31                  16         13   \n",
      "\n",
      "   pkts_received Action  \n",
      "0              1  allow  \n",
      "1              9  allow  \n",
      "2              1  allow  \n",
      "3              7  allow  \n",
      "4             18  allow  \n",
      "\n",
      "Number of rows and columns in the dataset:\n",
      "(65532, 12)\n",
      "\n",
      "Missing values in the dataset:\n",
      "Source Port             0\n",
      "Destination Port        0\n",
      "NAT Source Port         0\n",
      "NAT Destination Port    0\n",
      "Bytes                   0\n",
      "Bytes Sent              0\n",
      "Bytes Received          0\n",
      "Packets                 0\n",
      "Elapsed Time (sec)      0\n",
      "pkts_sent               0\n",
      "pkts_received           0\n",
      "Action                  0\n",
      "dtype: int64\n",
      "\n",
      "Summary statistics for numerical features:\n",
      "        Source Port  Destination Port  NAT Source Port  NAT Destination Port  \\\n",
      "count  65532.000000      65532.000000     65532.000000          65532.000000   \n",
      "mean   49391.969343      10577.385812     19282.972761           2671.049930   \n",
      "std    15255.712537      18466.027039     21970.689669           9739.162278   \n",
      "min        0.000000          0.000000         0.000000              0.000000   \n",
      "25%    49183.000000         80.000000         0.000000              0.000000   \n",
      "50%    53776.500000        445.000000      8820.500000             53.000000   \n",
      "75%    58638.000000      15000.000000     38366.250000            443.000000   \n",
      "max    65534.000000      65535.000000     65535.000000          65535.000000   \n",
      "\n",
      "              Bytes    Bytes Sent  Bytes Received       Packets  \\\n",
      "count  6.553200e+04  6.553200e+04    6.553200e+04  6.553200e+04   \n",
      "mean   9.712395e+04  2.238580e+04    7.473815e+04  1.028660e+02   \n",
      "std    5.618439e+06  3.828139e+06    2.463208e+06  5.133002e+03   \n",
      "min    6.000000e+01  6.000000e+01    0.000000e+00  1.000000e+00   \n",
      "25%    6.600000e+01  6.600000e+01    0.000000e+00  1.000000e+00   \n",
      "50%    1.680000e+02  9.000000e+01    7.900000e+01  2.000000e+00   \n",
      "75%    7.522500e+02  2.100000e+02    4.490000e+02  6.000000e+00   \n",
      "max    1.269359e+09  9.484772e+08    3.208818e+08  1.036116e+06   \n",
      "\n",
      "       Elapsed Time (sec)      pkts_sent  pkts_received  \n",
      "count        65532.000000   65532.000000   65532.000000  \n",
      "mean            65.833577      41.399530      61.466505  \n",
      "std            302.461762    3218.871288    2223.332271  \n",
      "min              0.000000       1.000000       0.000000  \n",
      "25%              0.000000       1.000000       0.000000  \n",
      "50%             15.000000       1.000000       1.000000  \n",
      "75%             30.000000       3.000000       2.000000  \n",
      "max          10824.000000  747520.000000  327208.000000  \n",
      "\n",
      "Frequency of the 'Action' column:\n",
      "allow         37640\n",
      "deny          14987\n",
      "drop          12851\n",
      "reset-both       54\n",
      "Name: Action, dtype: int64\n"
     ]
    }
   ],
   "source": [
    "import pandas as pd\n",
    "import matplotlib.pyplot as plt\n",
    "import seaborn as sns\n",
    "import numpy as np\n",
    "\n",
    "# Load the dataset\n",
    "df = pd.read_csv(\"./log2.csv\")\n",
    "\n",
    "# Display the first few rows of the dataset\n",
    "print(\"First few rows of the dataset:\")\n",
    "print(df.head())\n",
    "\n",
    "# Display the number of rows and columns in the dataset\n",
    "print(\"\\nNumber of rows and columns in the dataset:\")\n",
    "print(df.shape)\n",
    "\n",
    "# Check for missing values\n",
    "print(\"\\nMissing values in the dataset:\")\n",
    "print(df.isnull().sum())\n",
    "\n",
    "# Summary statistics for numerical features\n",
    "print(\"\\nSummary statistics for numerical features:\")\n",
    "print(df.describe())\n",
    "\n",
    "# Frequency of categorical feature \"Action\"\n",
    "print(\"\\nFrequency of the 'Action' column:\")\n",
    "print(df['Action'].value_counts())"
   ]
  },
  {
   "cell_type": "markdown",
   "metadata": {},
   "source": [
    "#### For the reason of classifying network traffic data, the following code prepares the data. Using one-hot encoding, it first converts the categorical feature \"Action\" into numerical values, generating binary columns for each category. Then, in order to ensure equal scales, it scales the numerical characteristics using StandardScaler, which can enhance the efficiency of various classification methods. Following data preparation, the dataset is divided in an 80-20 ratio into training and testing sets. The output, which displays the shapes of the training and testing sets for both features and the target variable, validates that the dataset was successfully split. There are 52,425 samples with 11 features in the training set and 13,107 samples with 11 features in the testing set.In the same way, the testing set has dimensions (13,107, 4) while the training set's target variable has dimensions (52,425, 4), which reflect the one-hot encoded categories. The produced datasets can now be used for model evaluation and training."
   ]
  },
  {
   "cell_type": "code",
   "execution_count": 4,
   "metadata": {},
   "outputs": [
    {
     "name": "stdout",
     "output_type": "stream",
     "text": [
      "Shape of X_train: (52425, 11)\n",
      "Shape of X_test: (13107, 11)\n",
      "Shape of y_train: (52425, 4)\n",
      "Shape of y_test: (13107, 4)\n"
     ]
    }
   ],
   "source": [
    "from sklearn.model_selection import train_test_split\n",
    "from sklearn.preprocessing import OneHotEncoder, StandardScaler\n",
    "\n",
    "# Encode categorical feature \"Action\" using one-hot encoding\n",
    "df_encoded = pd.get_dummies(df, columns=['Action'])\n",
    "\n",
    "# Extract features and target variable\n",
    "X = df_encoded.drop(columns=['Action_allow', 'Action_deny', 'Action_drop', 'Action_reset-both'])\n",
    "y = df_encoded[['Action_allow', 'Action_deny', 'Action_drop', 'Action_reset-both']]\n",
    "\n",
    "# Scale numerical features\n",
    "scaler = StandardScaler()\n",
    "X_scaled = scaler.fit_transform(X)\n",
    "\n",
    "# Split the dataset into training and testing sets (80% train, 20% test)\n",
    "X_train, X_test, y_train, y_test = train_test_split(X_scaled, y, test_size=0.2, random_state=42)\n",
    "\n",
    "# Print the shapes of training and testing sets\n",
    "print(\"Shape of X_train:\", X_train.shape)\n",
    "print(\"Shape of X_test:\", X_test.shape)\n",
    "print(\"Shape of y_train:\", y_train.shape)\n",
    "print(\"Shape of y_test:\", y_test.shape)"
   ]
  },
  {
   "cell_type": "markdown",
   "metadata": {},
   "source": [
    "#### The following code implements two classification algorithms, Logistic Regression and K-Nearest Neighbors (KNN), to predict the class attribute based on input features. After splitting the dataset into training and testing sets, features are scaled using StandardScaler for uniformity. Both models are then trained on the scaled training data, with Logistic Regression extended to handle multi-label classification using MultiOutputClassifier. Evaluation of the models includes computing accuracy and generating classification reports, which offer insights into precision, recall, and F1-score for each class. While both models achieve high accuracy, KNN outperforms Logistic Regression across all metrics, demonstrating superior performance and making it the preferred choice for this classification task."
   ]
  },
  {
   "cell_type": "code",
   "execution_count": 5,
   "metadata": {},
   "outputs": [
    {
     "name": "stdout",
     "output_type": "stream",
     "text": [
      "Accuracy of Logistic Regression: 0.9652094300755322\n",
      "Classification Report for Logistic Regression:\n",
      "              precision    recall  f1-score   support\n",
      "\n",
      "           0       1.00      0.99      1.00      7545\n",
      "           1       0.99      0.88      0.93      2994\n",
      "           2       0.94      1.00      0.97      2562\n",
      "           3       1.00      0.00      0.00         6\n",
      "\n",
      "   micro avg       0.98      0.97      0.98     13107\n",
      "   macro avg       0.98      0.72      0.72     13107\n",
      "weighted avg       0.98      0.97      0.98     13107\n",
      " samples avg       0.99      0.97      0.98     13107\n",
      "\n",
      "Accuracy of KNN Classifier: 0.9971770809491112\n",
      "Classification Report for KNN Classifier:\n",
      "              precision    recall  f1-score   support\n",
      "\n",
      "           0       1.00      1.00      1.00      7545\n",
      "           1       0.99      0.99      0.99      2994\n",
      "           2       1.00      1.00      1.00      2562\n",
      "           3       1.00      0.00      0.00         6\n",
      "\n",
      "   micro avg       1.00      1.00      1.00     13107\n",
      "   macro avg       1.00      0.75      0.75     13107\n",
      "weighted avg       1.00      1.00      1.00     13107\n",
      " samples avg       1.00      1.00      1.00     13107\n",
      "\n"
     ]
    }
   ],
   "source": [
    "from sklearn.model_selection import train_test_split\n",
    "from sklearn.preprocessing import StandardScaler\n",
    "from sklearn.linear_model import LogisticRegression\n",
    "from sklearn.metrics import accuracy_score, classification_report\n",
    "from sklearn.multioutput import MultiOutputClassifier\n",
    "from sklearn.neighbors import KNeighborsClassifier\n",
    "\n",
    "# Logistic Regression\n",
    "scaler = StandardScaler()\n",
    "X_train_scaled = scaler.fit_transform(X_train)\n",
    "X_test_scaled = scaler.transform(X_test)\n",
    "\n",
    "logistic_regression = LogisticRegression(max_iter=1000, random_state=42)\n",
    "multi_target_logistic_regression = MultiOutputClassifier(logistic_regression)\n",
    "multi_target_logistic_regression.fit(X_train_scaled, y_train)\n",
    "\n",
    "y_pred = multi_target_logistic_regression.predict(X_test_scaled)\n",
    "accuracy = accuracy_score(y_test, y_pred)\n",
    "print(\"Accuracy of Logistic Regression:\", accuracy)\n",
    "\n",
    "print(\"Classification Report for Logistic Regression:\")\n",
    "print(classification_report(y_test, y_pred, zero_division=1))\n",
    "\n",
    "# K-Nearest Neighbors (KNN)\n",
    "knn_classifier = KNeighborsClassifier()\n",
    "knn_classifier.fit(X_train_scaled, y_train)\n",
    "\n",
    "y_pred_knn = knn_classifier.predict(X_test_scaled)\n",
    "accuracy_knn = accuracy_score(y_test, y_pred_knn)\n",
    "print(\"Accuracy of KNN Classifier:\", accuracy_knn)\n",
    "\n",
    "print(\"Classification Report for KNN Classifier:\")\n",
    "print(classification_report(y_test, y_pred_knn, zero_division=1))\n"
   ]
  },
  {
   "cell_type": "markdown",
   "metadata": {},
   "source": [
    "#### Using the accuracy_score function from sklearn.metrics, the following code evaluates the trained KNN classifier's accuracy on the test and training datasets. It contrasts the accuracy achieved on the training set and the test set. The output demonstrates that both sets' precision is exactly the same, indicating to trustworthy operation. The model's high accuracy on the test set indicates that it has learned from the training data successfully and can generalize well to new data, as suggested by this similarity. As a result, the model's predictive power is robust and consistent."
   ]
  },
  {
   "cell_type": "code",
   "execution_count": 6,
   "metadata": {},
   "outputs": [
    {
     "name": "stdout",
     "output_type": "stream",
     "text": [
      "Accuracy on Test Set: 0.9971770809491112\n",
      "Accuracy on Training Set (KNN Classifier): 0.9971770809491112\n",
      "The model has similar performance on both the training and test sets.\n"
     ]
    }
   ],
   "source": [
    "from sklearn.metrics import accuracy_score\n",
    "\n",
    "# Evaluate Accuracy on the Test Set\n",
    "test_accuracy = accuracy_score(y_test, y_pred_knn)\n",
    "print(\"Accuracy on Test Set:\", test_accuracy)\n",
    "\n",
    "# Compare Test and Training Set Accuracies\n",
    "print(\"Accuracy on Training Set (KNN Classifier):\", accuracy_knn)\n",
    "\n",
    "# Step 4: Comment on Differences\n",
    "if test_accuracy > accuracy_knn:\n",
    "    print(\"The model performs better on the test set compared to the training set.\")\n",
    "elif test_accuracy < accuracy_knn:\n",
    "    print(\"The model performs better on the training set compared to the test set.\")\n",
    "else:\n",
    "    print(\"The model has similar performance on both the training and test sets.\")"
   ]
  },
  {
   "cell_type": "markdown",
   "metadata": {},
   "source": [
    "#### The following code predicts the action for a new set of input data using the trained K-Nearest Neighbors (KNN) classifier. The input data X_new represents a single observation with specific features. The predict method of the knn_classifier model is used to predict the action based on the input data. The output [1 0 0 0] indicates that the model predicts with high confidence that the action will be \"allow,\" as the first element has a probability of 1, while the other elements have probabilities of 0."
   ]
  },
  {
   "cell_type": "code",
   "execution_count": 7,
   "metadata": {},
   "outputs": [
    {
     "name": "stdout",
     "output_type": "stream",
     "text": [
      "Predicted Action: [[1 0 0 0]]\n"
     ]
    }
   ],
   "source": [
    "# Prepare the New Data\n",
    "X_new = [[1000, 80, 40000, 80, 1000, 500, 500, 10, 60, 5, 5]]\n",
    "\n",
    "# Predict with the Model\n",
    "predicted_action = knn_classifier.predict(X_new)\n",
    "\n",
    "# Display the predicted action\n",
    "print(\"Predicted Action:\", predicted_action)\n"
   ]
  }
 ],
 "metadata": {
  "kernelspec": {
   "display_name": "base",
   "language": "python",
   "name": "python3"
  },
  "language_info": {
   "codemirror_mode": {
    "name": "ipython",
    "version": 3
   },
   "file_extension": ".py",
   "mimetype": "text/x-python",
   "name": "python",
   "nbconvert_exporter": "python",
   "pygments_lexer": "ipython3",
   "version": "3.11.4"
  }
 },
 "nbformat": 4,
 "nbformat_minor": 2
}
